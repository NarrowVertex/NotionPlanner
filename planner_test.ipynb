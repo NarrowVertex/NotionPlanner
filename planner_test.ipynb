{
 "cells": [
  {
   "cell_type": "code",
   "execution_count": 72,
   "metadata": {},
   "outputs": [
    {
     "data": {
      "text/plain": [
       "<module 'notion' from 'g:\\\\내 드라이브\\\\Project\\\\NotionPlanner\\\\notion.py'>"
      ]
     },
     "execution_count": 72,
     "metadata": {},
     "output_type": "execute_result"
    }
   ],
   "source": [
    "from importlib import reload\n",
    "import planner\n",
    "import task\n",
    "import notion\n",
    "\n",
    "reload(planner)\n",
    "reload(task)\n",
    "reload(notion)"
   ]
  },
  {
   "cell_type": "code",
   "execution_count": 73,
   "metadata": {},
   "outputs": [],
   "source": [
    "from planner import Planner\n",
    "from task import Task"
   ]
  },
  {
   "cell_type": "code",
   "execution_count": 78,
   "metadata": {},
   "outputs": [],
   "source": [
    "planner = Planner()\n",
    "planner.load_tasks()"
   ]
  },
  {
   "cell_type": "code",
   "execution_count": 79,
   "metadata": {},
   "outputs": [
    {
     "name": "stdout",
     "output_type": "stream",
     "text": [
      "[1c284e0b-d49f-8168-8e9c-c70d4c8496d2][Squarekur 회의][2025-03-30 22:00][일과]\n",
      "[df4caa92-6fbd-4ffa-9d08-3887b453558b][홍대 친구 약속][2025-01-26 13:00 ~ 2025-01-26 22:00][이벤트]\n",
      "[18384e0b-d49f-80b2-9161-c620aad12ab8][운동][2025-01-22 00:00][일과]\n"
     ]
    }
   ],
   "source": [
    "planner.show_tasks()"
   ]
  }
 ],
 "metadata": {
  "kernelspec": {
   "display_name": "llm",
   "language": "python",
   "name": "python3"
  },
  "language_info": {
   "codemirror_mode": {
    "name": "ipython",
    "version": 3
   },
   "file_extension": ".py",
   "mimetype": "text/x-python",
   "name": "python",
   "nbconvert_exporter": "python",
   "pygments_lexer": "ipython3",
   "version": "3.12.0"
  }
 },
 "nbformat": 4,
 "nbformat_minor": 2
}
