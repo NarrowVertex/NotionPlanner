{
 "cells": [
  {
   "cell_type": "code",
   "execution_count": 1,
   "metadata": {},
   "outputs": [],
   "source": [
    "import requests\n",
    "from pprint import pprint\n",
    "from datetime import datetime"
   ]
  },
  {
   "cell_type": "code",
   "execution_count": 2,
   "metadata": {},
   "outputs": [],
   "source": [
    "base_url = 'https://api.notion.com/v1'\n",
    "api_key = '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'\n",
    "# database_id = '18584e0bd49f80788551d551654938d6'  # idea\n",
    "database_id = '18384e0bd49f80b5b397de4165b27f00'  # task\n",
    "\n",
    "headers = {\n",
    "    'Authorization': 'Bearer ' + api_key,\n",
    "    'Notion-Version': '2022-06-28'\n",
    "}"
   ]
  },
  {
   "cell_type": "markdown",
   "metadata": {},
   "source": [
    "remote: 노션 데이터베이스  \n",
    "local: 현 프로그램  "
   ]
  },
  {
   "cell_type": "code",
   "execution_count": 3,
   "metadata": {},
   "outputs": [],
   "source": [
    "# baes functions\n",
    "def request_get(endpoint):\n",
    "    url = base_url + endpoint\n",
    "    response = requests.get(url, headers=headers)\n",
    "    return response.json()\n",
    "\n",
    "def request_post(endpoint, json_data):\n",
    "    url = base_url + endpoint\n",
    "    response = requests.post(url, headers={**headers, 'Content-Type': 'application/json'}, json=json_data)\n",
    "    return response.json()"
   ]
  },
  {
   "cell_type": "code",
   "execution_count": 4,
   "metadata": {},
   "outputs": [],
   "source": [
    "# 일정 추가/수정/삭제\n",
    "# 1. 일정에 필요한 데이터 타입 정리\n",
    "# 2. 데이터 타입의 형식을 get, post에서 어떻게 되는지 맵핑으로 정리\n",
    "# 3. 데이터 타입을 가지고 일정 추가/수정/삭제 함수를 만들어서 사용"
   ]
  },
  {
   "cell_type": "code",
   "execution_count": 4,
   "metadata": {},
   "outputs": [],
   "source": [
    "def request_tasks():\n",
    "    request_json = None\n",
    "    response = request_post('/databases/' + database_id + '/query', request_json)\n",
    "    return response"
   ]
  },
  {
   "cell_type": "code",
   "execution_count": 5,
   "metadata": {},
   "outputs": [
    {
     "data": {
      "text/plain": [
       "\"\\npprint(request_tasks())\\n\\n{'has_more': False,\\n 'next_cursor': None,\\n 'object': 'list',\\n 'page_or_database': {},\\n 'request_id': '42c67385-b319-4faf-9e67-61851fec84b6',\\n 'results': [{'archived': False,\\n              'cover': None,\\n              'created_by': {'id': '0fcd872b-594c-810a-8ea5-000236262aa7',\\n                             'object': 'user'},\\n              'created_time': '2025-03-22T10:36:00.000Z',\\n              'icon': None,\\n              'id': '1be84e0b-d49f-80a6-89d6-eb0fcf176212',\\n              'in_trash': False,\\n              'last_edited_by': {'id': '0fcd872b-594c-810a-8ea5-000236262aa7',\\n                                 'object': 'user'},\\n              'last_edited_time': '2025-03-22T10:36:00.000Z',\\n              'object': 'page',\\n              'parent': {'database_id': '18384e0b-d49f-80b5-b397-de4165b27f00',\\n                         'type': 'database_id'},\\n              'properties': {'그룹': {'id': 'syTF',\\n                                    'select': None,\\n                                    'type': 'select'},\\n                             '날짜': {'date': {'end': None,\\n                                             'start': '2025-03-26',\\n                                             'time_zone': None},\\n                                    'id': 'Nn%3E%3C',\\n                                    'type': 'date'},\\n                             '이름': {'id': 'title',\\n                                    'title': [{'annotations': {'bold': False,\\n                                                               'code': False,\\n                                                               'color': 'default',\\n                                                               'italic': False,\\n                                                               'strikethrough': False,\\n                                                               'underline': False},\\n                                               'href': None,\\n                                               'plain_text': '테스트 테스크',\\n                                               'text': {'content': '테스트 테스크',\\n                                                        'link': None},\\n                                               'type': 'text'}],\\n                                    'type': 'title'}},\\n              'public_url': None,\\n              'url': 'https://www.notion.so/1be84e0bd49f80a689d6eb0fcf176212'},\\n             {'archived': False,\\n              'cover': None,\\n              'created_by': {'id': '3b2df65b-dbd9-4cde-ad94-15f0e7b07b27',\\n                             'object': 'user'},\\n              'created_time': '2025-01-22T10:01:00.000Z',\\n              'icon': None,\\n              'id': 'df4caa92-6fbd-4ffa-9d08-3887b453558b',\\n              'in_trash': False,\\n              'last_edited_by': {'id': '0fcd872b-594c-810a-8ea5-000236262aa7',\\n                                 'object': 'user'},\\n              'last_edited_time': '2025-03-22T10:36:00.000Z',\\n              'object': 'page',\\n              'parent': {'database_id': '18384e0b-d49f-80b5-b397-de4165b27f00',\\n                         'type': 'database_id'},\\n              'properties': {'그룹': {'id': 'syTF',\\n                                    'select': None,\\n                                    'type': 'select'},\\n                             '날짜': {'date': {'end': '2025-01-26T22:00:00.000+09:00',\\n                                             'start': '2025-01-26T13:00:00.000+09:00',\\n                                             'time_zone': None},\\n                                    'id': 'Nn%3E%3C',\\n                                    'type': 'date'},\\n                             '이름': {'id': 'title',\\n                                    'title': [{'annotations': {'bold': False,\\n                                                               'code': False,\\n                                                               'color': 'default',\\n                                                               'italic': False,\\n                                                               'strikethrough': False,\\n                                                               'underline': False},\\n                                               'href': None,\\n                                               'plain_text': '홍대 친구 약속',\\n                                               'text': {'content': '홍대 친구 약속',\\n                                                        'link': None},\\n                                               'type': 'text'}],\\n                                    'type': 'title'}},\\n              'public_url': None,\\n              'url': 'https://www.notion.so/df4caa926fbd4ffa9d083887b453558b'},\\n             {'archived': False,\\n              'cover': None,\\n              'created_by': {'id': '0fcd872b-594c-810a-8ea5-000236262aa7',\\n                             'object': 'user'},\\n              'created_time': '2025-01-22T09:59:00.000Z',\\n              'icon': None,\\n              'id': '18384e0b-d49f-80b2-9161-c620aad12ab8',\\n              'in_trash': False,\\n              'last_edited_by': {'id': '0fcd872b-594c-810a-8ea5-000236262aa7',\\n                                 'object': 'user'},\\n              'last_edited_time': '2025-02-16T05:00:00.000Z',\\n              'object': 'page',\\n              'parent': {'database_id': '18384e0b-d49f-80b5-b397-de4165b27f00',\\n                         'type': 'database_id'},\\n              'properties': {'그룹': {'id': 'syTF',\\n                                    'select': {'color': 'green',\\n                                               'id': ']ZGA',\\n                                               'name': '그룹1'},\\n                                    'type': 'select'},\\n                             '날짜': {'date': {'end': None,\\n                                             'start': '2025-01-22',\\n                                             'time_zone': None},\\n                                    'id': 'Nn%3E%3C',\\n                                    'type': 'date'},\\n                             '이름': {'id': 'title',\\n                                    'title': [{'annotations': {'bold': False,\\n                                                               'code': False,\\n                                                               'color': 'default',\\n                                                               'italic': False,\\n                                                               'strikethrough': False,\\n                                                               'underline': False},\\n                                               'href': None,\\n                                               'plain_text': '운동',\\n                                               'text': {'content': '운동',\\n                                                        'link': None},\\n                                               'type': 'text'}],\\n                                    'type': 'title'}},\\n              'public_url': None,\\n              'url': 'https://www.notion.so/18384e0bd49f80b29161c620aad12ab8'}],\\n 'type': 'page_or_database'}\\n\""
      ]
     },
     "execution_count": 5,
     "metadata": {},
     "output_type": "execute_result"
    }
   ],
   "source": [
    "\"\"\"\n",
    "pprint(request_tasks())\n",
    "\n",
    "{'has_more': False,\n",
    " 'next_cursor': None,\n",
    " 'object': 'list',\n",
    " 'page_or_database': {},\n",
    " 'request_id': '42c67385-b319-4faf-9e67-61851fec84b6',\n",
    " 'results': [{'archived': False,\n",
    "              'cover': None,\n",
    "              'created_by': {'id': '0fcd872b-594c-810a-8ea5-000236262aa7',\n",
    "                             'object': 'user'},\n",
    "              'created_time': '2025-03-22T10:36:00.000Z',\n",
    "              'icon': None,\n",
    "              'id': '1be84e0b-d49f-80a6-89d6-eb0fcf176212',\n",
    "              'in_trash': False,\n",
    "              'last_edited_by': {'id': '0fcd872b-594c-810a-8ea5-000236262aa7',\n",
    "                                 'object': 'user'},\n",
    "              'last_edited_time': '2025-03-22T10:36:00.000Z',\n",
    "              'object': 'page',\n",
    "              'parent': {'database_id': '18384e0b-d49f-80b5-b397-de4165b27f00',\n",
    "                         'type': 'database_id'},\n",
    "              'properties': {'그룹': {'id': 'syTF',\n",
    "                                    'select': None,\n",
    "                                    'type': 'select'},\n",
    "                             '날짜': {'date': {'end': None,\n",
    "                                             'start': '2025-03-26',\n",
    "                                             'time_zone': None},\n",
    "                                    'id': 'Nn%3E%3C',\n",
    "                                    'type': 'date'},\n",
    "                             '이름': {'id': 'title',\n",
    "                                    'title': [{'annotations': {'bold': False,\n",
    "                                                               'code': False,\n",
    "                                                               'color': 'default',\n",
    "                                                               'italic': False,\n",
    "                                                               'strikethrough': False,\n",
    "                                                               'underline': False},\n",
    "                                               'href': None,\n",
    "                                               'plain_text': '테스트 테스크',\n",
    "                                               'text': {'content': '테스트 테스크',\n",
    "                                                        'link': None},\n",
    "                                               'type': 'text'}],\n",
    "                                    'type': 'title'}},\n",
    "              'public_url': None,\n",
    "              'url': 'https://www.notion.so/1be84e0bd49f80a689d6eb0fcf176212'},\n",
    "             {'archived': False,\n",
    "              'cover': None,\n",
    "              'created_by': {'id': '3b2df65b-dbd9-4cde-ad94-15f0e7b07b27',\n",
    "                             'object': 'user'},\n",
    "              'created_time': '2025-01-22T10:01:00.000Z',\n",
    "              'icon': None,\n",
    "              'id': 'df4caa92-6fbd-4ffa-9d08-3887b453558b',\n",
    "              'in_trash': False,\n",
    "              'last_edited_by': {'id': '0fcd872b-594c-810a-8ea5-000236262aa7',\n",
    "                                 'object': 'user'},\n",
    "              'last_edited_time': '2025-03-22T10:36:00.000Z',\n",
    "              'object': 'page',\n",
    "              'parent': {'database_id': '18384e0b-d49f-80b5-b397-de4165b27f00',\n",
    "                         'type': 'database_id'},\n",
    "              'properties': {'그룹': {'id': 'syTF',\n",
    "                                    'select': None,\n",
    "                                    'type': 'select'},\n",
    "                             '날짜': {'date': {'end': '2025-01-26T22:00:00.000+09:00',\n",
    "                                             'start': '2025-01-26T13:00:00.000+09:00',\n",
    "                                             'time_zone': None},\n",
    "                                    'id': 'Nn%3E%3C',\n",
    "                                    'type': 'date'},\n",
    "                             '이름': {'id': 'title',\n",
    "                                    'title': [{'annotations': {'bold': False,\n",
    "                                                               'code': False,\n",
    "                                                               'color': 'default',\n",
    "                                                               'italic': False,\n",
    "                                                               'strikethrough': False,\n",
    "                                                               'underline': False},\n",
    "                                               'href': None,\n",
    "                                               'plain_text': '홍대 친구 약속',\n",
    "                                               'text': {'content': '홍대 친구 약속',\n",
    "                                                        'link': None},\n",
    "                                               'type': 'text'}],\n",
    "                                    'type': 'title'}},\n",
    "              'public_url': None,\n",
    "              'url': 'https://www.notion.so/df4caa926fbd4ffa9d083887b453558b'},\n",
    "             {'archived': False,\n",
    "              'cover': None,\n",
    "              'created_by': {'id': '0fcd872b-594c-810a-8ea5-000236262aa7',\n",
    "                             'object': 'user'},\n",
    "              'created_time': '2025-01-22T09:59:00.000Z',\n",
    "              'icon': None,\n",
    "              'id': '18384e0b-d49f-80b2-9161-c620aad12ab8',\n",
    "              'in_trash': False,\n",
    "              'last_edited_by': {'id': '0fcd872b-594c-810a-8ea5-000236262aa7',\n",
    "                                 'object': 'user'},\n",
    "              'last_edited_time': '2025-02-16T05:00:00.000Z',\n",
    "              'object': 'page',\n",
    "              'parent': {'database_id': '18384e0b-d49f-80b5-b397-de4165b27f00',\n",
    "                         'type': 'database_id'},\n",
    "              'properties': {'그룹': {'id': 'syTF',\n",
    "                                    'select': {'color': 'green',\n",
    "                                               'id': ']ZGA',\n",
    "                                               'name': '그룹1'},\n",
    "                                    'type': 'select'},\n",
    "                             '날짜': {'date': {'end': None,\n",
    "                                             'start': '2025-01-22',\n",
    "                                             'time_zone': None},\n",
    "                                    'id': 'Nn%3E%3C',\n",
    "                                    'type': 'date'},\n",
    "                             '이름': {'id': 'title',\n",
    "                                    'title': [{'annotations': {'bold': False,\n",
    "                                                               'code': False,\n",
    "                                                               'color': 'default',\n",
    "                                                               'italic': False,\n",
    "                                                               'strikethrough': False,\n",
    "                                                               'underline': False},\n",
    "                                               'href': None,\n",
    "                                               'plain_text': '운동',\n",
    "                                               'text': {'content': '운동',\n",
    "                                                        'link': None},\n",
    "                                               'type': 'text'}],\n",
    "                                    'type': 'title'}},\n",
    "              'public_url': None,\n",
    "              'url': 'https://www.notion.so/18384e0bd49f80b29161c620aad12ab8'}],\n",
    " 'type': 'page_or_database'}\n",
    "\"\"\""
   ]
  },
  {
   "cell_type": "code",
   "execution_count": 6,
   "metadata": {},
   "outputs": [],
   "source": [
    "# 일정 내역 보여주기\n",
    "class Task:\n",
    "    def __init__(self, task_id, name, date, group):\n",
    "        self.task_id = task_id\n",
    "        self.name = name\n",
    "        self.date = {\n",
    "            'start': date.get('start', None) if isinstance(date.get('start'), datetime) else datetime.fromisoformat(date.get('start')) if date.get('start') else None,\n",
    "            'end': date.get('end', None) if isinstance(date.get('end'), datetime) else datetime.fromisoformat(date.get('end')) if date.get('end') else None\n",
    "        }\n",
    "        self.group = group\n",
    "        self.description = None\n",
    "\n",
    "    def __str__(self):\n",
    "        date_string = f\"{self.date['start'].strftime('%Y-%m-%d %H:%M')}\" if self.date['start'] else ''\n",
    "        if self.date['end']:\n",
    "            date_string += f\" ~ {self.date['end'].strftime('%Y-%m-%d %H:%M')}\"\n",
    "        \n",
    "        # not to confuse with the group name empty\n",
    "        group_string = f\"[{self.group}]\" if self.group else ''\n",
    "\n",
    "        string = f\"[{self.task_id}][{self.name}][{date_string}][{group_string}]\"\n",
    "        return string\n",
    "    \n",
    "def get_tasks():\n",
    "    response = request_tasks()\n",
    "    tasks = []\n",
    "    for item in response['results']:\n",
    "        properties = item['properties']\n",
    "        task_id = item['id']\n",
    "        name = properties['이름']['title'][0]['plain_text'] if properties['이름']['title'] else ''\n",
    "        start_date = properties.get('날짜', {}).get('date', {}).get('start', '')\n",
    "        end_date = properties.get('날짜', {}).get('date', {}).get('end', '')\n",
    "        date = {'start': start_date, 'end': end_date}\n",
    "        group = properties.get('그룹', {}).get('select', {}).get('name', '') if properties.get('그룹', {}).get('select') else ''\n",
    "        tasks.append(Task(task_id, name, date, group))\n",
    "    return tasks"
   ]
  },
  {
   "cell_type": "code",
   "execution_count": 19,
   "metadata": {},
   "outputs": [
    {
     "name": "stdout",
     "output_type": "stream",
     "text": [
      "[1bf84e0b-d49f-81f1-bd44-c46f7d0b02bc][test][2025-03-24 01:30][]\n",
      "[1be84e0b-d49f-8162-bd49-fed3d349b58a][modified test2][2025-03-22 21:42][]\n",
      "[1be84e0b-d49f-817a-b8b5-ca79481c02eb][modified test2][2025-03-22 21:42][]\n",
      "[1be84e0b-d49f-810e-89a7-f1442829b6d4][modified test2][2025-03-22 21:42][]\n",
      "[df4caa92-6fbd-4ffa-9d08-3887b453558b][홍대 친구 약속][2025-01-26 13:00 ~ 2025-01-26 22:00][]\n",
      "[18384e0b-d49f-80b2-9161-c620aad12ab8][운동][2025-01-22 00:00][[그룹1]]\n"
     ]
    }
   ],
   "source": [
    "task_list = get_tasks()\n",
    "for t in task_list:\n",
    "    print(t)"
   ]
  },
  {
   "cell_type": "code",
   "execution_count": 8,
   "metadata": {},
   "outputs": [],
   "source": [
    "def add_task_to_remote(task):\n",
    "    name = task.name\n",
    "    date = task.date\n",
    "    group = task.group\n",
    "\n",
    "    properties = {\n",
    "        '이름': {\n",
    "            'title': [{'text': {'content': name}}]\n",
    "        },\n",
    "        '날짜': {\n",
    "            'date': {\n",
    "                'start': date['start'].isoformat() if date['start'] else None,\n",
    "                'end': date['end'].isoformat() if date['end'] else None\n",
    "            }\n",
    "        }\n",
    "    }\n",
    "    \n",
    "    # 그룹이 None이면 추가하지 않음\n",
    "    if group is not None:\n",
    "        properties['그룹'] = {'select': {'name': group}}\n",
    "    \n",
    "    request_json = {\n",
    "        'parent': {'database_id': database_id},\n",
    "        'properties': properties\n",
    "    }\n",
    "    \n",
    "    response = request_post('/pages', request_json)\n",
    "    task_id = response['id']\n",
    "    return task_id\n",
    "\n",
    "def add_task_to_local(task):\n",
    "    task_list.append(task)\n",
    "\n",
    "def add_task(task):\n",
    "    task_id = add_task_to_remote(task)\n",
    "    task.task_id = task_id\n",
    "    add_task_to_local(task)"
   ]
  },
  {
   "cell_type": "code",
   "execution_count": 11,
   "metadata": {},
   "outputs": [],
   "source": [
    "task = Task(None, 'test', {'start': datetime.now().astimezone()}, None)\n",
    "add_task(task)"
   ]
  },
  {
   "cell_type": "code",
   "execution_count": 18,
   "metadata": {},
   "outputs": [
    {
     "name": "stdout",
     "output_type": "stream",
     "text": [
      "[1be84e0b-d49f-8162-bd49-fed3d349b58a][modified test2][2025-03-22 21:42][]\n",
      "[1be84e0b-d49f-817a-b8b5-ca79481c02eb][modified test2][2025-03-22 21:42][]\n",
      "[1be84e0b-d49f-810e-89a7-f1442829b6d4][modified test2][2025-03-22 21:42][]\n",
      "[df4caa92-6fbd-4ffa-9d08-3887b453558b][홍대 친구 약속][2025-01-26 13:00 ~ 2025-01-26 22:00][]\n",
      "[18384e0b-d49f-80b2-9161-c620aad12ab8][운동][2025-01-22 00:00][[그룹1]]\n",
      "[1bf84e0b-d49f-81f1-bd44-c46f7d0b02bc][test][2025-03-24 01:30][]\n"
     ]
    }
   ],
   "source": [
    "for t in task_list:\n",
    "    print(t)"
   ]
  },
  {
   "cell_type": "code",
   "execution_count": 13,
   "metadata": {},
   "outputs": [],
   "source": [
    "def delete_task_from_remote(task_id):\n",
    "    endpoint = f'/pages/{task_id}'\n",
    "    url = base_url + endpoint\n",
    "    response = requests.patch(url, headers=headers, json={'archived': True})\n",
    "    return response.json()\n",
    "\n",
    "def delete_task_from_local(task_id):\n",
    "    global task_list\n",
    "    task_list = [t for t in task_list if t.task_id != task_id]\n",
    "\n",
    "def delete_task(task_id):\n",
    "    delete_task_from_remote(task_id)\n",
    "    delete_task_from_local(task_id)"
   ]
  },
  {
   "cell_type": "code",
   "execution_count": 14,
   "metadata": {},
   "outputs": [],
   "source": [
    "def delete_tasks_by_name(name):\n",
    "    task_ids = [task.task_id for task in task_list if task.name == name]\n",
    "    for task_id in task_ids:\n",
    "        delete_task(task_id)\n",
    "    print(f\"Deleted {len(task_ids)} tasks with name '{name}'\")"
   ]
  },
  {
   "cell_type": "code",
   "execution_count": 21,
   "metadata": {},
   "outputs": [
    {
     "name": "stdout",
     "output_type": "stream",
     "text": [
      "Deleted 3 tasks with name 'modified test2'\n"
     ]
    }
   ],
   "source": [
    "delete_tasks_by_name('modified test2')"
   ]
  },
  {
   "cell_type": "code",
   "execution_count": 15,
   "metadata": {},
   "outputs": [],
   "source": [
    "def edit_task_from_remote(task_id, task):\n",
    "    properties = {\n",
    "        '이름': {\n",
    "            'title': [{'text': {'content': task.name}}]\n",
    "        },\n",
    "        '날짜': {\n",
    "            'date': {\n",
    "                'start': task.date['start'].isoformat() if task.date['start'] else None,\n",
    "                'end': task.date['end'].isoformat() if task.date['end'] else None\n",
    "            }\n",
    "        }\n",
    "    }\n",
    "    \n",
    "    # 그룹이 None이면 추가하지 않음\n",
    "    if task.group is not None:\n",
    "        properties['그룹'] = {'select': {'name': task.group}}\n",
    "    \n",
    "    request_json = {\n",
    "        'properties': properties\n",
    "    }\n",
    "    \n",
    "    endpoint = f'/pages/{task_id}'\n",
    "    url = base_url + endpoint\n",
    "    response = requests.patch(url, headers=headers, json=request_json)\n",
    "    return response.json()\n",
    "\n",
    "def edit_task_from_local(task_id, task):\n",
    "    global task_list\n",
    "    for t in task_list:\n",
    "        if t.task_id == task_id:\n",
    "            t.name = task.name\n",
    "            t.date = task.date\n",
    "            t.group = task.group\n",
    "            break\n",
    "\n",
    "def edit_task(task_id, task):\n",
    "    edit_task_from_remote(task_id, task)\n",
    "    edit_task_from_local(task_id, task)"
   ]
  },
  {
   "cell_type": "code",
   "execution_count": 17,
   "metadata": {},
   "outputs": [],
   "source": [
    "def get_task_id_by_name(name):\n",
    "    for t in task_list:\n",
    "        if t.name == name:\n",
    "            return t.task_id\n",
    "        \n",
    "    return None\n",
    "\n",
    "def edit_task_by_name(name, new_task):\n",
    "    task_id = get_task_id_by_name(name)\n",
    "    if not task_id:\n",
    "        print(f\"Task with name '{name}' not found\")\n",
    "        return\n",
    "    \n",
    "    edit_task(task_id, new_task)\n",
    "\n",
    "    print(f\"Edited task successfully\")"
   ]
  },
  {
   "cell_type": "code",
   "execution_count": null,
   "metadata": {},
   "outputs": [],
   "source": [
    "new_task = Task(get_task_id_by_name('test'), 'modified test1', {'start': datetime.now().astimezone()}, None)\n",
    "edit_task_by_name('modified test', new_task)"
   ]
  },
  {
   "cell_type": "code",
   "execution_count": null,
   "metadata": {},
   "outputs": [],
   "source": [
    "# 모듈화해서 하나로 묶으면 일차로 끝"
   ]
  }
 ],
 "metadata": {
  "kernelspec": {
   "display_name": "llm",
   "language": "python",
   "name": "python3"
  },
  "language_info": {
   "codemirror_mode": {
    "name": "ipython",
    "version": 3
   },
   "file_extension": ".py",
   "mimetype": "text/x-python",
   "name": "python",
   "nbconvert_exporter": "python",
   "pygments_lexer": "ipython3",
   "version": "3.12.0"
  }
 },
 "nbformat": 4,
 "nbformat_minor": 2
}
