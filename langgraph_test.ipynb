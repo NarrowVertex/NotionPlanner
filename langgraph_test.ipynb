{
 "cells": [
  {
   "cell_type": "code",
   "execution_count": 30,
   "id": "2dc9fa58",
   "metadata": {},
   "outputs": [],
   "source": [
    "from typing import Literal, Annotated\n",
    "from langchain_openai import ChatOpenAI\n",
    "from langchain_core.messages import SystemMessage, RemoveMessage, HumanMessage\n",
    "from langgraph.checkpoint.memory import MemorySaver\n",
    "from langgraph.graph import MessagesState, StateGraph, START\n",
    "from langgraph.graph.message import add_messages\n",
    "from langgraph.graph import END\n",
    "\n",
    "from dotenv import load_dotenv\n",
    "import os\n",
    "\n",
    "load_dotenv()\n",
    "\n",
    "# 메모리 저장소 설정\n",
    "memory = MemorySaver()\n",
    "\n",
    "\n",
    "# 메시지 상태와 요약 정보를 포함하는 상태 클래스\n",
    "class State(MessagesState):\n",
    "    messages: Annotated[list, add_messages]\n",
    "    summary: str\n",
    "\n",
    "\n",
    "# 대화 및 요약을 위한 모델 초기화\n",
    "model = ChatOpenAI(model_name=\"gpt-4o-mini\", temperature=0)"
   ]
  },
  {
   "cell_type": "markdown",
   "id": "124465fa",
   "metadata": {},
   "source": [
    "# 도구 생성"
   ]
  },
  {
   "cell_type": "code",
   "execution_count": 45,
   "id": "debfa88a",
   "metadata": {},
   "outputs": [],
   "source": [
    "from langchain.agents import Tool\n",
    "from langchain.tools import StructuredTool\n",
    "from notion.planner import Planner\n",
    "from notion.task import Task\n",
    "from pydantic import BaseModel, Field\n",
    "\n",
    "planner = Planner()"
   ]
  },
  {
   "cell_type": "code",
   "execution_count": 46,
   "id": "443c6122",
   "metadata": {},
   "outputs": [],
   "source": [
    "class ShowTasksSchema(BaseModel):\n",
    "    pass\n",
    "\n",
    "def show_tasks():\n",
    "    return planner.show_tasks()\n",
    "\n",
    "class CreateTaskSchema(BaseModel):\n",
    "    name: str = Field(\"No name\", description=\"Task name\")\n",
    "    date: str = Field(\"2000-01-01 00:00\", description=\"The date of the task, either format:\\n- Single datetime: 'YYYY-MM-DD HH:MM'\\n- Start and end datetime: 'YYYY-MM-DD HH:MM YYYY-MM-DD HH:MM'\")\n",
    "    group: str = Field(\"no group\", description=\"Task group, e.g., '일상', '이벤트'\")\n",
    "\n",
    "def create_task(name, date, group):\n",
    "    try:\n",
    "        date_count = date.count(\":\")\n",
    "        if date_count == 1:\n",
    "            date = {\"start\": date, \"end\": None}\n",
    "        elif date_count == 2:\n",
    "            part = date.split(\" \")\n",
    "            start = f\"{part[0]} {part[1]}\"\n",
    "            end = f\"{part[2]} {part[3]}\"\n",
    "            date = {\"start\": start, \"end\": end}\n",
    "        else:\n",
    "            raise ValueError(\"Invalid date format. Use 'YYYY-MM-DD HH:MM' or 'YYYY-MM-DD HH:MM YYYY-MM-DD HH:MM'.\")\n",
    "    except ValueError as e:\n",
    "        raise ValueError(f\"Error parsing date: {e}\")\n",
    "\n",
    "    task = Task(task_id=None, name=name, date=date, group=group)\n",
    "    return planner.add_task(task)\n",
    "\n",
    "class DeleteTaskSchema(BaseModel):\n",
    "    task_id: str = Field(..., description=\"The ID of the task to delete\")\n",
    "\n",
    "def delete_task(task_id):\n",
    "    return planner.delete_task(task_id)\n",
    "\n",
    "class EditTaskSchema(BaseModel):\n",
    "    task_id: str = Field(..., description=\"The ID of the task to edit\")\n",
    "    name: str = Field(\"No name\", description=\"New task name\")\n",
    "    date: str = Field(\"2000-01-01 00:00\", description=\"New date of the task, either format:\\n- Single datetime: 'YYYY-MM-DD HH:MM'\\n- Start and end datetime: 'YYYY-MM-DD HH:MM YYYY-MM-DD HH:MM'\")\n",
    "    group: str = Field(\"no group\", description=\"New task group, e.g., '일상', '이벤트'\")\n",
    "\n",
    "def edit_task(task_id, name, date, group):\n",
    "    new_task = Task(task_id=task_id, name=name, date=date, group=group)\n",
    "    return planner.edit_task(task_id, new_task)"
   ]
  },
  {
   "cell_type": "code",
   "execution_count": 47,
   "id": "43b62c35",
   "metadata": {},
   "outputs": [],
   "source": [
    "tools = [\n",
    "    StructuredTool.from_function(\n",
    "        func=show_tasks,\n",
    "        name=\"ShowTasks\",\n",
    "        description=\"Show all the tasks.\",\n",
    "        args_schema=ShowTasksSchema\n",
    "    ),\n",
    "    StructuredTool.from_function(\n",
    "        func=create_task,\n",
    "        name=\"CreateTask\",\n",
    "        description=\"Create/Add a new task in Notion.\",\n",
    "        args_schema=CreateTaskSchema\n",
    "    ),\n",
    "    StructuredTool.from_function(\n",
    "        func=delete_task,\n",
    "        name=\"DeleteTask\",\n",
    "        description=\"Delete a task from Notion. Input: Notion page ID.\",\n",
    "        args_schema=DeleteTaskSchema\n",
    "    ),\n",
    "    StructuredTool.from_function(\n",
    "        func=edit_task,\n",
    "        name=\"EditTask\",\n",
    "        description=\"Update a task's title in Notion. Input: page ID and new title.\",\n",
    "        args_schema=EditTaskSchema\n",
    "    )\n",
    "]"
   ]
  },
  {
   "cell_type": "code",
   "execution_count": 48,
   "id": "e49f920d",
   "metadata": {},
   "outputs": [],
   "source": [
    "from langgraph.prebuilt import create_react_agent\n",
    "\n",
    "agent_executor = create_react_agent(\n",
    "    model=model,\n",
    "    tools=tools,\n",
    "    # checkpointer=memory\n",
    ")"
   ]
  },
  {
   "cell_type": "code",
   "execution_count": 49,
   "id": "2cf5abd4",
   "metadata": {},
   "outputs": [],
   "source": [
    "def print_stream(stream):\n",
    "    for chunk in stream:\n",
    "        message = chunk[\"messages\"][-1]\n",
    "        if isinstance(message, tuple):\n",
    "            print(message)\n",
    "        else:\n",
    "            message.pretty_print()"
   ]
  },
  {
   "cell_type": "code",
   "execution_count": 50,
   "id": "288b6bb0",
   "metadata": {},
   "outputs": [
    {
     "name": "stdout",
     "output_type": "stream",
     "text": [
      "================================\u001b[1m Human Message \u001b[0m=================================\n",
      "\n",
      "how much tasks did you saw?\n",
      "==================================\u001b[1m Ai Message \u001b[0m==================================\n",
      "Tool Calls:\n",
      "  ShowTasks (call_sWSrzjluZtliGGch6P0E4MGT)\n",
      " Call ID: call_sWSrzjluZtliGGch6P0E4MGT\n",
      "  Args:\n",
      "=================================\u001b[1m Tool Message \u001b[0m=================================\n",
      "Name: ShowTasks\n",
      "\n",
      "[1d084e0b-d49f-80cc-a47a-f7bf87fba35e][연신내 카페][2025-04-10 12:30 ~ 2025-04-10 15:00][일과]\n",
      "[1d084e0b-d49f-806b-8497-c287550c1450][연신내 점심][2025-04-10 12:00 ~ 2025-04-10 12:30][일과]\n",
      "[1ce84e0b-d49f-80b2-997f-f530536cef61][점심먹고 불광천 산책][2025-04-09 15:00][]\n",
      "[1ce84e0b-d49f-8067-89f1-ddf765db811c][던전헬퍼 Github README 채우기][2025-04-09 12:59][이벤트]\n",
      "[1ce84e0b-d49f-80ea-ac12-c29707014aa1][스마트가로등 Github README 채우기][2025-04-08 12:59][이벤트]\n",
      "[1cc84e0b-d49f-8173-a2e0-c9c83841a781][edit_test][2025-04-05 07:07][test]\n",
      "[1c284e0b-d49f-8168-8e9c-c70d4c8496d2][Squarekur 회의][2025-03-30 22:00][일과]\n",
      "[df4caa92-6fbd-4ffa-9d08-3887b453558b][홍대 친구 약속][2025-01-26 13:00 ~ 2025-01-26 22:00][이벤트]\n",
      "[18384e0b-d49f-80b2-9161-c620aad12ab8][운동][2025-01-22 00:00][일과]\n",
      "[21284e0b-d49f-8126-8127-dc4e61fa56e5][정보처리기사 필기접수][2025-07-21 10:00][이벤트]\n",
      "[21284e0b-d49f-816c-b375-fde8ef0ed91d][정보처리기사 필기접수 종료][2025-07-24 18:00][이벤트]\n",
      "[21284e0b-d49f-8161-971f-d74bda1400f5][정보처리기사 필기시험][2025-08-09 00:00][이벤트]\n",
      "[21284e0b-d49f-8198-834c-f167d40f4da3][정보처리기사 필기시험][2025-09-01 00:00][이벤트]\n",
      "[21284e0b-d49f-8114-9f97-d7cdb8cf3cb9][정보처리기사 필기합격 발표][2025-09-10 09:00][이벤트]\n",
      "[21284e0b-d49f-81d6-9181-e97b054fce30][정보처리기사 실기접수][2025-09-22 10:00][이벤트]\n",
      "[21284e0b-d49f-81ed-ba54-dcb077eb55e5][정보처리기사 실기접수][2025-09-25 18:00][이벤트]\n",
      "[21284e0b-d49f-8117-81dc-f26e5e5d88bc][정보처리기사 실기시험][2025-11-01 00:00][이벤트]\n",
      "[21284e0b-d49f-81f9-b715-e74077d4d905][정보처리기사 실기시험][2025-11-21 00:00][이벤트]\n",
      "[21284e0b-d49f-8158-b366-d7011cc8335b][정보처리기사 최종합격자 발표][2025-12-24 09:00][이벤트]\n",
      "==================================\u001b[1m Ai Message \u001b[0m==================================\n",
      "\n",
      "I found a total of 30 tasks.\n"
     ]
    }
   ],
   "source": [
    "config = {\"configurable\": {\"thread_id\": \"1\"}}\n",
    "inputs = {\"messages\": [\n",
    "    (\"user\", \"how much tasks did you saw?\")\n",
    "]}\n",
    "print_stream(agent_executor.stream(inputs, config=config, stream_mode=\"values\"))"
   ]
  },
  {
   "cell_type": "code",
   "execution_count": null,
   "id": "d76f3c3d",
   "metadata": {},
   "outputs": [
    {
     "name": "stdout",
     "output_type": "stream",
     "text": [
      "================================\u001b[1m Human Message \u001b[0m=================================\n",
      "\n",
      "create a task named 'Squarekur 회의', 2025-06-15 22:00 in group '일상'\n",
      "==================================\u001b[1m Ai Message \u001b[0m==================================\n",
      "Tool Calls:\n",
      "  CreateTask (call_WPwil70dqcgeesqYgAUOnsHR)\n",
      " Call ID: call_WPwil70dqcgeesqYgAUOnsHR\n",
      "  Args:\n",
      "    name: Squarekur 회의\n",
      "    date: 2025-06-15 22:00\n",
      "    group: 일상\n",
      "=================================\u001b[1m Tool Message \u001b[0m=================================\n",
      "Name: CreateTask\n",
      "\n",
      "Task[21284e0b-d49f-812d-b6ec-cf2032a8d9e8] added successfully!\n",
      "==================================\u001b[1m Ai Message \u001b[0m==================================\n",
      "\n",
      "The task \"Squarekur 회의\" has been successfully created for June 15, 2025, at 22:00 in the group \"일상.\"\n"
     ]
    }
   ],
   "source": [
    "config = {\"configurable\": {\"thread_id\": \"1\"}}\n",
    "inputs = [\n",
    "    \"create a task named 'Squarekur 회의', 2025-06-15 22:00 in group '일상'\"\n",
    "]\n",
    "for input_text in inputs:\n",
    "    inputs = {\"messages\": [\n",
    "        (\"user\", input_text)\n",
    "    ]}\n",
    "    print_stream(agent_executor.stream(inputs, config=config, stream_mode=\"values\"))"
   ]
  },
  {
   "cell_type": "code",
   "execution_count": null,
   "id": "ee60cef3",
   "metadata": {},
   "outputs": [],
   "source": []
  }
 ],
 "metadata": {
  "kernelspec": {
   "display_name": "llm",
   "language": "python",
   "name": "python3"
  },
  "language_info": {
   "codemirror_mode": {
    "name": "ipython",
    "version": 3
   },
   "file_extension": ".py",
   "mimetype": "text/x-python",
   "name": "python",
   "nbconvert_exporter": "python",
   "pygments_lexer": "ipython3",
   "version": "3.12.0"
  }
 },
 "nbformat": 4,
 "nbformat_minor": 5
}
