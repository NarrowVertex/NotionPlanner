{
 "cells": [
  {
   "cell_type": "code",
   "execution_count": 11,
   "id": "b916d509",
   "metadata": {},
   "outputs": [
    {
     "data": {
      "text/plain": [
       "<module 'RAG' from 'g:\\\\내 드라이브\\\\Project\\\\NotionPlanner\\\\agent\\\\RAG.py'>"
      ]
     },
     "execution_count": 11,
     "metadata": {},
     "output_type": "execute_result"
    }
   ],
   "source": [
    "import importlib\n",
    "import RAG\n",
    "importlib.reload(RAG)"
   ]
  },
  {
   "cell_type": "code",
   "execution_count": 1,
   "id": "c3af4ddf",
   "metadata": {},
   "outputs": [],
   "source": [
    "from RAG import RAG"
   ]
  },
  {
   "cell_type": "code",
   "execution_count": 2,
   "id": "e8e10143",
   "metadata": {},
   "outputs": [],
   "source": [
    "rag = RAG(\"command_vector_store\", \"vector_store/command\")"
   ]
  },
  {
   "cell_type": "code",
   "execution_count": 3,
   "id": "1922a223",
   "metadata": {},
   "outputs": [],
   "source": [
    "import os\n",
    "import json"
   ]
  },
  {
   "cell_type": "code",
   "execution_count": 4,
   "id": "be6bd46a",
   "metadata": {},
   "outputs": [
    {
     "name": "stdout",
     "output_type": "stream",
     "text": [
      "Added command spec: add_task\n",
      "Added command spec: show_tasks\n",
      "Added command spec: delete_task\n",
      "Added command spec: edit_task\n"
     ]
    }
   ],
   "source": [
    "folder_path = \"../command/commands/command_specs\"\n",
    "json_contents = []\n",
    "\n",
    "for filename in os.listdir(folder_path):\n",
    "    if filename.endswith('.json'):\n",
    "        file_path = os.path.join(folder_path, filename)\n",
    "        with open(file_path, 'r') as f:\n",
    "            json_str = json.dumps(json.load(f))\n",
    "            json_contents.append(json_str)\n",
    "\n",
    "for command_spec in json_contents:\n",
    "    rag.add_document(command_spec)\n",
    "    print(f\"Added command spec: {json.loads(command_spec)['name']}\")"
   ]
  },
  {
   "cell_type": "code",
   "execution_count": 5,
   "id": "95b64f19",
   "metadata": {},
   "outputs": [
    {
     "name": "stdout",
     "output_type": "stream",
     "text": [
      "{\"name\": \"add_task\", \"description\": \"Add a task to the task list\", \"parameters\": {\"name\": {\"type\": \"string\", \"description\": \"The name of the task\"}, \"date\": {\"type\": \"string\", \"description\": \"The date of the task in either format:\\n- Single datetime: 'YYYY-MM-DD HH:MM'\\n- Start and end datetime: 'YYYY-MM-DD HH:MM YYYY-MM-DD HH:MM'\"}, \"group\": {\"type\": \"string\", \"description\": \"The group of the task\"}}, \"opcode\": \"add\", \"usage\": \"/add <name> <date> <group>\", \"example\": [\"/add task_name '2025-12-31 23:59' '2026-01-01 00:01' group_name\", \"/add task_name '2025-12-31 23:59' 'None' group_name\", \"/add task_name '2025-12-31 23:59' group_name\"]}\n"
     ]
    }
   ],
   "source": [
    "print(rag.search(\"add task\"))"
   ]
  },
  {
   "cell_type": "code",
   "execution_count": null,
   "id": "6d957903",
   "metadata": {},
   "outputs": [],
   "source": []
  }
 ],
 "metadata": {
  "kernelspec": {
   "display_name": "llm",
   "language": "python",
   "name": "python3"
  },
  "language_info": {
   "codemirror_mode": {
    "name": "ipython",
    "version": 3
   },
   "file_extension": ".py",
   "mimetype": "text/x-python",
   "name": "python",
   "nbconvert_exporter": "python",
   "pygments_lexer": "ipython3",
   "version": "3.12.0"
  }
 },
 "nbformat": 4,
 "nbformat_minor": 5
}
